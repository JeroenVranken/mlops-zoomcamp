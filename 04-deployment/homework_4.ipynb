{
 "cells": [
  {
   "cell_type": "markdown",
   "id": "e69f79fc",
   "metadata": {},
   "source": [
    "## Homework\n",
    "\n",
    "In this homework, we'll deploy the ride duration model in batch mode. Like in homework 1, we'll use the Yellow Taxi Trip Records dataset. \n",
    "\n",
    "You'll find the starter code in the [homework](homework) directory.\n",
    "\n",
    "Solution: [homework_solution/](homework_solution/)\n",
    "\n",
    "\n",
    "## Q1. Notebook\n",
    "\n",
    "We'll start with the same notebook we ended up with in homework 1.\n",
    "We cleaned it a little bit and kept only the scoring part. You can find the initial notebook [here](homework/starter.ipynb).\n",
    "\n",
    "Run this notebook for the March 2023 data.\n",
    "\n",
    "What's the standard deviation of the predicted duration for this dataset?\n",
    "\n",
    "* 1.24\n",
    "* 6.24\n",
    "* 12.28\n",
    "* 18.28\n"
   ]
  },
  {
   "cell_type": "markdown",
   "id": "d6394abe",
   "metadata": {},
   "source": [
    ">The standard deviation is **6.24**"
   ]
  },
  {
   "cell_type": "markdown",
   "id": "d806d680",
   "metadata": {},
   "source": [
    "## Q2. Preparing the output\n",
    "\n",
    "Like in the course videos, we want to prepare the dataframe with the output. \n",
    "\n",
    "First, let's create an artificial `ride_id` column:\n",
    "\n",
    "```python\n",
    "df['ride_id'] = f'{year:04d}/{month:02d}_' + df.index.astype('str')\n",
    "```\n",
    "\n",
    "Next, write the ride id and the predictions to a dataframe with results. \n",
    "\n",
    "Save it as parquet:\n",
    "\n",
    "```python\n",
    "df_result.to_parquet(\n",
    "    output_file,\n",
    "    engine='pyarrow',\n",
    "    compression=None,\n",
    "    index=False\n",
    ")\n",
    "```\n",
    "\n",
    "What's the size of the output file?\n",
    "\n",
    "* 36M\n",
    "* 46M\n",
    "* 56M\n",
    "* 66M\n",
    "\n",
    "__Note:__ Make sure you use the snippet above for saving the file. It should contain only these two columns. For this question, don't change the\n",
    "dtypes of the columns and use `pyarrow`, not `fastparquet`. \n",
    "\n",
    "\n"
   ]
  },
  {
   "cell_type": "code",
   "execution_count": 1,
   "id": "8bf5b9c5",
   "metadata": {},
   "outputs": [
    {
     "name": "stdout",
     "output_type": "stream",
     "text": [
      "total 66M\n",
      "drwxr-xr-x 3 azureuser azureuser 4.0K Apr  9 13:01 .\n",
      "drwxr-xr-x 7 azureuser azureuser 4.0K Apr  9 12:51 ..\n",
      "-rw-r--r-- 1 azureuser azureuser 7.1K Apr  9 13:04 homework_4.ipynb\n",
      "-rw-r--r-- 1 azureuser azureuser  17K Apr  9 12:48 model.bin\n",
      "-rw-r--r-- 1 azureuser azureuser 5.7K Apr  9 13:03 starter.ipynb\n",
      "drwxr-xr-x 2 azureuser azureuser 4.0K Apr  9 12:47 web-service\n",
      "-rw-r--r-- 1 azureuser azureuser  66M Apr  9 13:01 yellow_tripdata_2023-03_predictions.parquet\n"
     ]
    }
   ],
   "source": [
    "!ls -lah"
   ]
  },
  {
   "cell_type": "markdown",
   "id": "7e65d744",
   "metadata": {},
   "source": [
    "> The file size is **66M**."
   ]
  },
  {
   "cell_type": "markdown",
   "id": "511ace22",
   "metadata": {},
   "source": [
    "## Q3. Creating the scoring script\n",
    "\n",
    "Now let's turn the notebook into a script. \n",
    "\n",
    "Which command you need to execute for that?\n"
   ]
  },
  {
   "cell_type": "markdown",
   "id": "d23fe41c",
   "metadata": {},
   "source": [
    "> ```bash\n",
    "> jupyter nbconvert --to script starter.ipynb\n",
    "> ```"
   ]
  },
  {
   "cell_type": "markdown",
   "id": "7f0fe456",
   "metadata": {},
   "source": [
    "## Q4. Virtual environment\n",
    "\n",
    "Now let's put everything into a virtual environment. We'll use pipenv for that.\n",
    "\n",
    "Install all the required libraries. Pay attention to the Scikit-Learn version: it should be the same as in the starter\n",
    "notebook.\n",
    "\n",
    "After installing the libraries, pipenv creates two files: `Pipfile`\n",
    "and `Pipfile.lock`. The `Pipfile.lock` file keeps the hashes of the\n",
    "dependencies we use for the virtual env.\n",
    "\n",
    "What's the first hash for the Scikit-Learn dependency?\n",
    "\n",
    "\n"
   ]
  },
  {
   "cell_type": "markdown",
   "id": "a178943f",
   "metadata": {},
   "source": [
    "> The first hash of the scikit-learn dependency is: **sha256:0828673c5b520e879f2af6a9e99eee0eefea69a2188be1ca68a6121b809055c1**"
   ]
  },
  {
   "cell_type": "markdown",
   "id": "b5a80a38",
   "metadata": {},
   "source": [
    "## Q5. Parametrize the script\n",
    "\n",
    "Let's now make the script configurable via CLI. We'll create two \n",
    "parameters: year and month.\n",
    "\n",
    "Run the script for April 2023. \n",
    "\n",
    "What's the mean predicted duration? \n",
    "\n",
    "* 7.29\n",
    "* 14.29\n",
    "* 21.29\n",
    "* 28.29\n",
    "\n",
    "Hint: just add a print statement to your script.\n",
    "\n",
    "\n"
   ]
  },
  {
   "cell_type": "markdown",
   "id": "530afd90",
   "metadata": {},
   "source": [
    "> The mean predicted duration of y_pred : **14.203865642696083**"
   ]
  },
  {
   "cell_type": "markdown",
   "id": "3019b7ad",
   "metadata": {},
   "source": [
    "## Q6. Docker container \n",
    "\n",
    "Finally, we'll package the script in the docker container. \n",
    "For that, you'll need to use a base image that we prepared. \n",
    "\n",
    "This is what the content of this image is:\n",
    "\n",
    "```dockerfile\n",
    "FROM python:3.10.13-slim\n",
    "\n",
    "WORKDIR /app\n",
    "COPY [ \"model2.bin\", \"model.bin\" ]\n",
    "```\n",
    "\n",
    "Note: you don't need to run it. We have already done it.\n",
    "\n",
    "It is pushed to [`agrigorev/zoomcamp-model:mlops-2024-3.10.13-slim`](https://hub.docker.com/layers/agrigorev/zoomcamp-model/mlops-2024-3.10.13-slim/images/sha256-f54535b73a8c3ef91967d5588de57d4e251b22addcbbfb6e71304a91c1c7027f?context=repo),\n",
    "which you need to use as your base image.\n",
    "\n",
    "That is, your Dockerfile should start with:\n",
    "\n",
    "```dockerfile\n",
    "FROM agrigorev/zoomcamp-model:mlops-2024-3.10.13-slim\n",
    "\n",
    "# do stuff here\n",
    "```\n",
    "\n",
    "This image already has a pickle file with a dictionary vectorizer\n",
    "and a model. You will need to use them.\n",
    "\n",
    "Important: don't copy the model to the docker image. You will need\n",
    "to use the pickle file already in the image. \n",
    "\n",
    "Now run the script with docker. What's the mean predicted duration\n",
    "for May 2023? \n",
    "\n",
    "* 0.19\n",
    "* 7.24\n",
    "* 14.24\n",
    "* 21.19\n",
    "\n",
    "\n",
    "## Bonus: upload the result to the cloud (Not graded)\n",
    "\n",
    "Just printing the mean duration inside the docker image \n",
    "doesn't seem very practical. Typically, after creating the output \n",
    "file, we upload it to the cloud storage.\n",
    "\n",
    "Modify your code to upload the parquet file to S3/GCS/etc.\n",
    "\n",
    "\n",
    "## Bonus: Use Mage for batch inference\n",
    "\n",
    "Here we didn't use any orchestration. In practice we usually do.\n",
    "\n",
    "* Split the code into logical code blocks\n",
    "* Use Mage to orchestrate the execution\n",
    "\n",
    "## Publishing the image to dockerhub\n",
    "\n",
    "This is how we published the image to Docker hub:\n",
    "\n",
    "```bash\n",
    "docker build -t mlops-zoomcamp-model:2024-3.10.13-slim .\n",
    "docker tag mlops-zoomcamp-model:2024-3.10.13-slim agrigorev/zoomcamp-model:mlops-2024-3.10.13-slim\n",
    "\n",
    "docker login --username USERNAME\n",
    "docker push agrigorev/zoomcamp-model:mlops-2024-3.10.13-slim\n",
    "```\n",
    "\n",
    "This is just for your reference, you don't need to do it.\n",
    "\n",
    "\n",
    "## Submit the results\n",
    "\n",
    "* Submit your results here: https://courses.datatalks.club/mlops-zoomcamp-2024/homework/hw4\n",
    "* It's possible that your answers won't match exactly. If it's the case, select the closest one."
   ]
  },
  {
   "cell_type": "markdown",
   "id": "48a9e0c3",
   "metadata": {},
   "source": [
    "> The mean predicted duration for May 2023 was: **0.19174419265916945**"
   ]
  },
  {
   "cell_type": "markdown",
   "id": "f2edcf3a",
   "metadata": {},
   "source": []
  }
 ],
 "metadata": {
  "kernelspec": {
   "display_name": "mlops4",
   "language": "python",
   "name": "python3"
  },
  "language_info": {
   "codemirror_mode": {
    "name": "ipython",
    "version": 3
   },
   "file_extension": ".py",
   "mimetype": "text/x-python",
   "name": "python",
   "nbconvert_exporter": "python",
   "pygments_lexer": "ipython3",
   "version": "3.10.16"
  }
 },
 "nbformat": 4,
 "nbformat_minor": 5
}
