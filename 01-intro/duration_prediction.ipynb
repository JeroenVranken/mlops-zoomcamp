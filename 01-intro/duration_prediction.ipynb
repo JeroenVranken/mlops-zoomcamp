{
 "cells": [
  {
   "cell_type": "code",
   "execution_count": 11,
   "id": "cba6dd6f-64f7-4225-87d7-ac96cb0a9863",
   "metadata": {},
   "outputs": [],
   "source": [
    "import pandas as pd\n",
    "import sklearn as sk\n",
    "import seaborn as sns\n",
    "import matplotlib.pyplot as plt\n",
    "import numpy as np\n",
    "import pickle"
   ]
  },
  {
   "cell_type": "code",
   "execution_count": 2,
   "id": "04bce702-c532-47fa-ad73-8427ae8afb74",
   "metadata": {},
   "outputs": [],
   "source": [
    "from sklearn.feature_extraction import DictVectorizer\n",
    "from sklearn.linear_model import LinearRegression, Lasso, Ridge\n",
    "\n",
    "from sklearn.metrics import mean_squared_error"
   ]
  },
  {
   "cell_type": "markdown",
   "id": "90c69497-9382-4507-b630-adc414352a89",
   "metadata": {},
   "source": [
    "# Load data"
   ]
  },
  {
   "cell_type": "code",
   "execution_count": 17,
   "id": "44918c6a-6c95-4f44-aa64-829728ebbcb7",
   "metadata": {},
   "outputs": [],
   "source": [
    "def read_dataframe(filename):\n",
    "    df = pd.read_parquet(filename)\n",
    "\n",
    "    # Calculate trip duration in minutes\n",
    "    df[\"duration\"] = df.lpep_dropoff_datetime - df.lpep_pickup_datetime\n",
    "    df.duration = df.duration.apply(lambda td: td.total_seconds() / 60)\n",
    "    \n",
    "    # Filter on trips between 1 and 60 minutes\n",
    "    df = df[((df.duration >=1) & (df.duration <= 60))]\n",
    "    \n",
    "    # Select categorical and numerical variables\n",
    "    categorical = ['PULocationID', 'DOLocationID']\n",
    "    numerical = ['trip_distance']\n",
    "\n",
    "    # Add combinations of pickup and dropoff locations\n",
    "    df[\"PU_DO\"] = df['PULocationID'].astype(str) + '_' + df['DOLocationID'].astype(str)\n",
    "    \n",
    "    # Convert the catergoricals to strings (they are integers originally).\n",
    "    df.loc[:, categorical] = df[categorical].astype(str)\n",
    "    \n",
    "    return df"
   ]
  },
  {
   "cell_type": "code",
   "execution_count": 4,
   "id": "24dd6b40-ba59-4fb8-89b2-0486ffcb4c95",
   "metadata": {},
   "outputs": [
    {
     "name": "stderr",
     "output_type": "stream",
     "text": [
      "/tmp/ipykernel_37001/4073654839.py:18: FutureWarning: Setting an item of incompatible dtype is deprecated and will raise in a future error of pandas. Value '['43' '166' '41' ... '74' '168' '119']' has dtype incompatible with int64, please explicitly cast to a compatible dtype first.\n",
      "  df.loc[:, categorical] = df[categorical].astype(str)\n",
      "/tmp/ipykernel_37001/4073654839.py:18: FutureWarning: Setting an item of incompatible dtype is deprecated and will raise in a future error of pandas. Value '['151' '239' '42' ... '69' '215' '244']' has dtype incompatible with int64, please explicitly cast to a compatible dtype first.\n",
      "  df.loc[:, categorical] = df[categorical].astype(str)\n",
      "/tmp/ipykernel_37001/4073654839.py:18: FutureWarning: Setting an item of incompatible dtype is deprecated and will raise in a future error of pandas. Value '['130' '152' '152' ... '74' '42' '42']' has dtype incompatible with int64, please explicitly cast to a compatible dtype first.\n",
      "  df.loc[:, categorical] = df[categorical].astype(str)\n",
      "/tmp/ipykernel_37001/4073654839.py:18: FutureWarning: Setting an item of incompatible dtype is deprecated and will raise in a future error of pandas. Value '['205' '244' '48' ... '151' '42' '41']' has dtype incompatible with int64, please explicitly cast to a compatible dtype first.\n",
      "  df.loc[:, categorical] = df[categorical].astype(str)\n"
     ]
    },
    {
     "data": {
      "text/plain": [
       "(73908, 61921)"
      ]
     },
     "execution_count": 4,
     "metadata": {},
     "output_type": "execute_result"
    }
   ],
   "source": [
    "df_train = read_dataframe('./data/green_tripdata_2021-01.parquet')\n",
    "df_val = read_dataframe('./data/green_tripdata_2021-02.parquet')\n",
    "\n",
    "len(df_train), len(df_val)"
   ]
  },
  {
   "cell_type": "code",
   "execution_count": 5,
   "id": "03775e64-2a41-4f3b-9078-c0fb0030a1bd",
   "metadata": {},
   "outputs": [],
   "source": [
    "# Filter on trip_type == Dispatch\n",
    "# df[df.trip_type == 2]"
   ]
  },
  {
   "cell_type": "code",
   "execution_count": 13,
   "id": "9c4486d2-8cd4-47a8-a3df-771262dfa596",
   "metadata": {},
   "outputs": [
    {
     "name": "stdout",
     "output_type": "stream",
     "text": [
      "mse_train: 34.796383463695996\n",
      "mse_val: 59.666722978173155\n",
      "root_mse_train: 5.89884594337706\n",
      "root_mse_val: 7.724423795868088\n"
     ]
    }
   ],
   "source": [
    "# Select categorical and numerical variables\n",
    "categorical = ['PULocationID', 'DOLocationID', 'PU_DO']\n",
    "numerical = ['trip_distance']\n",
    "\n",
    "\n",
    "\n",
    "dv = DictVectorizer()\n",
    "\n",
    "train_dicts = df_train[categorical + numerical].to_dict(orient='records')\n",
    "val_dicts = df_val[categorical + numerical].to_dict(orient='records')\n",
    "\n",
    "# Vectorize\n",
    "X_train = dv.fit_transform(train_dicts)\n",
    "X_val = dv.transform(val_dicts)\n",
    "\n",
    "# Set target variable\n",
    "target = 'duration'\n",
    "y_train = df_train[target].values\n",
    "y_val = df_val[target].values\n",
    "\n",
    "# Train linear regression\n",
    "lr = LinearRegression()\n",
    "lr.fit(X_train, y_train)\n",
    "\n",
    "# Predict on the train set\n",
    "y_pred_train = lr.predict(X_train)\n",
    "\n",
    "# Predict on the val set\n",
    "y_pred_val = lr.predict(X_val)\n",
    "\n",
    "# Calculate error\n",
    "mse_train = mean_squared_error(y_train, y_pred_train)\n",
    "mse_val = mean_squared_error(y_val, y_pred_val)\n",
    "\n",
    "print(f\"mse_train: {mse_train}\")\n",
    "print(f\"mse_val: {mse_val}\")\n",
    "\n",
    "print(f\"root_mse_train: {np.sqrt(mse_train)}\")\n",
    "print(f\"root_mse_val: {np.sqrt(mse_val)}\")\n",
    "\n",
    "with open('./models/lin_reg.bin', 'wb') as f_out:\n",
    "    pickle.dump((dv, lr), f_out)"
   ]
  },
  {
   "cell_type": "code",
   "execution_count": 7,
   "id": "f026d552-5889-4fca-8d06-8039fd427351",
   "metadata": {},
   "outputs": [
    {
     "name": "stdout",
     "output_type": "stream",
     "text": [
      "root_mse_train: 5.89884594337706\n",
      "root_mse_val: 12.212583224318818\n"
     ]
    }
   ],
   "source": [
    "# Try Lasso model\n",
    "lr = Lasso()\n",
    "lr.fit(X_train, y_train)\n",
    "\n",
    "y_pred_val = lr.predict(X_val)\n",
    "\n",
    "# Calculate error\n",
    "mse_train = mean_squared_error(y_train, y_pred_train)\n",
    "mse_val = mean_squared_error(y_val, y_pred_val)\n",
    "\n",
    "print(f\"root_mse_train: {np.sqrt(mse_train)}\")\n",
    "print(f\"root_mse_val: {np.sqrt(mse_val)}\")"
   ]
  },
  {
   "cell_type": "code",
   "execution_count": 8,
   "id": "0bc2205d-41ef-46bd-bd12-8c95ea57cc15",
   "metadata": {},
   "outputs": [
    {
     "name": "stdout",
     "output_type": "stream",
     "text": [
      "root_mse_train: 5.89884594337706\n",
      "root_mse_val: 7.484704893625263\n"
     ]
    }
   ],
   "source": [
    "# Try Ridge model\n",
    "lr = Ridge()\n",
    "lr.fit(X_train, y_train)\n",
    "\n",
    "y_pred_val = lr.predict(X_val)\n",
    "\n",
    "# Calculate error\n",
    "mse_train = mean_squared_error(y_train, y_pred_train)\n",
    "mse_val = mean_squared_error(y_val, y_pred_val)\n",
    "\n",
    "print(f\"root_mse_train: {np.sqrt(mse_train)}\")\n",
    "print(f\"root_mse_val: {np.sqrt(mse_val)}\")"
   ]
  },
  {
   "cell_type": "code",
   "execution_count": null,
   "id": "68802e3d-75ef-441f-9395-53e15edb5efd",
   "metadata": {},
   "outputs": [],
   "source": []
  },
  {
   "cell_type": "code",
   "execution_count": 9,
   "id": "7a292ddb-fd24-4fc8-8b5a-7a3ee592db75",
   "metadata": {},
   "outputs": [
    {
     "data": {
      "text/plain": [
       "<Compressed Sparse Row sparse matrix of dtype 'float64'\n",
       "\twith 295632 stored elements and shape (73908, 13727)>"
      ]
     },
     "execution_count": 9,
     "metadata": {},
     "output_type": "execute_result"
    }
   ],
   "source": [
    "X_train"
   ]
  },
  {
   "cell_type": "code",
   "execution_count": null,
   "id": "8fc85f0f-874e-4e13-a920-dbc50d2cbb0f",
   "metadata": {},
   "outputs": [],
   "source": []
  },
  {
   "cell_type": "code",
   "execution_count": null,
   "id": "14a07b95-efcc-4e89-9ae4-f6f6eadaacda",
   "metadata": {},
   "outputs": [],
   "source": []
  },
  {
   "cell_type": "code",
   "execution_count": null,
   "id": "f76fadd4-b257-48ca-a762-09d742ed0de4",
   "metadata": {},
   "outputs": [],
   "source": []
  },
  {
   "cell_type": "code",
   "execution_count": 16,
   "id": "5c925b19-125f-47bf-9407-34d03f2db4ff",
   "metadata": {},
   "outputs": [
    {
     "data": {
      "text/plain": [
       "<matplotlib.legend.Legend at 0x7b2ad0afbdf0>"
      ]
     },
     "execution_count": 16,
     "metadata": {},
     "output_type": "execute_result"
    },
    {
     "data": {
      "image/png": "[encoded data removed]",
      "text/plain": [
       "<Figure size 640x480 with 1 Axes>"
      ]
     },
     "metadata": {},
     "output_type": "display_data"
    }
   ],
   "source": [
    "# Visualise the results\n",
    "sns.histplot(y_pred_val, label='prediction', kde=True, alpha=0.5)\n",
    "sns.histplot(y_val, label='actual', kde=True, alpha=0.5)\n",
    "plt.legend()"
   ]
  },
  {
   "cell_type": "code",
   "execution_count": null,
   "id": "37549936-6c08-453e-9901-6977b3b6ed15",
   "metadata": {},
   "outputs": [],
   "source": []
  },
  {
   "cell_type": "code",
   "execution_count": null,
   "id": "b816a0af-c75a-46f6-93da-36074d3c37cb",
   "metadata": {},
   "outputs": [],
   "source": []
  },
  {
   "cell_type": "code",
   "execution_count": null,
   "id": "ff2c6544-a605-46ee-bd48-41e8d9f481d9",
   "metadata": {},
   "outputs": [],
   "source": [
    "LassoRegression"
   ]
  }
 ],
 "metadata": {
  "kernelspec": {
   "display_name": "Python 3 (ipykernel)",
   "language": "python",
   "name": "python3"
  },
  "language_info": {
   "codemirror_mode": {
    "name": "ipython",
    "version": 3
   },
   "file_extension": ".py",
   "mimetype": "text/x-python",
   "name": "python",
   "nbconvert_exporter": "python",
   "pygments_lexer": "ipython3",
   "version": "3.10.16"
  }
 },
 "nbformat": 4,
 "nbformat_minor": 5
}
