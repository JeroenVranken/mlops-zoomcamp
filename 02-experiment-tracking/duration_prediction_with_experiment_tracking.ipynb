{
 "cells": [
  {
   "cell_type": "code",
   "execution_count": 1,
   "id": "cba6dd6f-64f7-4225-87d7-ac96cb0a9863",
   "metadata": {},
   "outputs": [],
   "source": [
    "import pandas as pd\n",
    "import sklearn as sk\n",
    "import seaborn as sns\n",
    "import matplotlib.pyplot as plt\n",
    "import numpy as np\n",
    "import pickle"
   ]
  },
  {
   "cell_type": "code",
   "execution_count": 2,
   "id": "04bce702-c532-47fa-ad73-8427ae8afb74",
   "metadata": {},
   "outputs": [],
   "source": [
    "from sklearn.feature_extraction import DictVectorizer\n",
    "from sklearn.linear_model import LinearRegression, Lasso, Ridge\n",
    "\n",
    "from sklearn.metrics import mean_squared_error"
   ]
  },
  {
   "cell_type": "code",
   "execution_count": 3,
   "id": "e3c28bd7-cc1a-467a-94c8-4d4066c08cd4",
   "metadata": {},
   "outputs": [
    {
     "data": {
      "text/plain": [
       "<Experiment: artifact_location='/workspaces/mlops-zoomcamp/02-experiment-tracking/mlruns/1', creation_time=1742206256785, experiment_id='1', last_update_time=1742206256785, lifecycle_stage='active', name='nyc-taxi', tags={}>"
      ]
     },
     "execution_count": 3,
     "metadata": {},
     "output_type": "execute_result"
    }
   ],
   "source": [
    "import mlflow\n",
    "\n",
    "mlflow.set_tracking_uri(\"sqlite:///mlflow.db\")\n",
    "mlflow.set_experiment(\"nyc-taxi\")"
   ]
  },
  {
   "cell_type": "markdown",
   "id": "90c69497-9382-4507-b630-adc414352a89",
   "metadata": {},
   "source": [
    "# Load data"
   ]
  },
  {
   "cell_type": "code",
   "execution_count": 4,
   "id": "44918c6a-6c95-4f44-aa64-829728ebbcb7",
   "metadata": {},
   "outputs": [],
   "source": [
    "def read_dataframe(filename):\n",
    "    df = pd.read_parquet(filename)\n",
    "\n",
    "    # Calculate trip duration in minutes\n",
    "    df[\"duration\"] = df.lpep_dropoff_datetime - df.lpep_pickup_datetime\n",
    "    df.duration = df.duration.apply(lambda td: td.total_seconds() / 60)\n",
    "    \n",
    "    # Filter on trips between 1 and 60 minutes\n",
    "    df = df[((df.duration >=1) & (df.duration <= 60))]\n",
    "    \n",
    "    # Select categorical and numerical variables\n",
    "    categorical = ['PULocationID', 'DOLocationID']\n",
    "    numerical = ['trip_distance']\n",
    "\n",
    "    # Add combinations of pickup and dropoff locations\n",
    "    df[\"PU_DO\"] = df['PULocationID'].astype(str) + '_' + df['DOLocationID'].astype(str)\n",
    "    \n",
    "    # Convert the catergoricals to strings (they are integers originally).\n",
    "    df.loc[:, categorical] = df[categorical].astype(str)\n",
    "    \n",
    "    return df"
   ]
  },
  {
   "cell_type": "code",
   "execution_count": 5,
   "id": "24dd6b40-ba59-4fb8-89b2-0486ffcb4c95",
   "metadata": {},
   "outputs": [
    {
     "name": "stderr",
     "output_type": "stream",
     "text": [
      "/tmp/ipykernel_35787/1659746559.py:19: FutureWarning: Setting an item of incompatible dtype is deprecated and will raise in a future error of pandas. Value '['43' '166' '41' ... '74' '168' '119']' has dtype incompatible with int64, please explicitly cast to a compatible dtype first.\n",
      "  df.loc[:, categorical] = df[categorical].astype(str)\n",
      "/tmp/ipykernel_35787/1659746559.py:19: FutureWarning: Setting an item of incompatible dtype is deprecated and will raise in a future error of pandas. Value '['151' '239' '42' ... '69' '215' '244']' has dtype incompatible with int64, please explicitly cast to a compatible dtype first.\n",
      "  df.loc[:, categorical] = df[categorical].astype(str)\n",
      "/tmp/ipykernel_35787/1659746559.py:19: FutureWarning: Setting an item of incompatible dtype is deprecated and will raise in a future error of pandas. Value '['130' '152' '152' ... '74' '42' '42']' has dtype incompatible with int64, please explicitly cast to a compatible dtype first.\n",
      "  df.loc[:, categorical] = df[categorical].astype(str)\n",
      "/tmp/ipykernel_35787/1659746559.py:19: FutureWarning: Setting an item of incompatible dtype is deprecated and will raise in a future error of pandas. Value '['205' '244' '48' ... '151' '42' '41']' has dtype incompatible with int64, please explicitly cast to a compatible dtype first.\n",
      "  df.loc[:, categorical] = df[categorical].astype(str)\n"
     ]
    },
    {
     "data": {
      "text/plain": [
       "(73908, 61921)"
      ]
     },
     "execution_count": 5,
     "metadata": {},
     "output_type": "execute_result"
    }
   ],
   "source": [
    "train_path = './data/green_tripdata_2021-01.parquet'\n",
    "val_path = './data/green_tripdata_2021-02.parquet'\n",
    "df_train = read_dataframe(train_path)\n",
    "df_val = read_dataframe(val_path)\n",
    "\n",
    "len(df_train), len(df_val)"
   ]
  },
  {
   "cell_type": "code",
   "execution_count": 6,
   "id": "03775e64-2a41-4f3b-9078-c0fb0030a1bd",
   "metadata": {},
   "outputs": [],
   "source": [
    "# Filter on trip_type == Dispatch\n",
    "# df[df.trip_type == 2]"
   ]
  },
  {
   "cell_type": "code",
   "execution_count": 7,
   "id": "9c4486d2-8cd4-47a8-a3df-771262dfa596",
   "metadata": {},
   "outputs": [
    {
     "name": "stdout",
     "output_type": "stream",
     "text": [
      "mse_train: 34.796383463695996\n",
      "mse_val: 59.666722978173155\n",
      "root_mse_train: 5.89884594337706\n",
      "root_mse_val: 7.724423795868088\n"
     ]
    }
   ],
   "source": [
    "# Select categorical and numerical variables\n",
    "categorical = ['PULocationID', 'DOLocationID', 'PU_DO']\n",
    "numerical = ['trip_distance']\n",
    "\n",
    "\n",
    "\n",
    "dv = DictVectorizer()\n",
    "\n",
    "train_dicts = df_train[categorical + numerical].to_dict(orient='records')\n",
    "val_dicts = df_val[categorical + numerical].to_dict(orient='records')\n",
    "\n",
    "# Vectorize\n",
    "X_train = dv.fit_transform(train_dicts)\n",
    "X_val = dv.transform(val_dicts)\n",
    "\n",
    "# Set target variable\n",
    "target = 'duration'\n",
    "y_train = df_train[target].values\n",
    "y_val = df_val[target].values\n",
    "\n",
    "# Train linear regression\n",
    "lr = LinearRegression()\n",
    "lr.fit(X_train, y_train)\n",
    "\n",
    "# Predict on the train set\n",
    "y_pred_train = lr.predict(X_train)\n",
    "\n",
    "# Predict on the val set\n",
    "y_pred_val = lr.predict(X_val)\n",
    "\n",
    "# Calculate error\n",
    "mse_train = mean_squared_error(y_train, y_pred_train)\n",
    "mse_val = mean_squared_error(y_val, y_pred_val)\n",
    "\n",
    "print(f\"mse_train: {mse_train}\")\n",
    "print(f\"mse_val: {mse_val}\")\n",
    "\n",
    "print(f\"root_mse_train: {np.sqrt(mse_train)}\")\n",
    "print(f\"root_mse_val: {np.sqrt(mse_val)}\")\n",
    "\n",
    "with open('./models/lin_reg.bin', 'wb') as f_out:\n",
    "    pickle.dump((dv, lr), f_out)"
   ]
  },
  {
   "cell_type": "code",
   "execution_count": 8,
   "id": "f026d552-5889-4fca-8d06-8039fd427351",
   "metadata": {},
   "outputs": [
    {
     "name": "stdout",
     "output_type": "stream",
     "text": [
      "root_mse_train: 5.89884594337706\n",
      "root_mse_val: 10.606140572165677\n"
     ]
    }
   ],
   "source": [
    "with mlflow.start_run():\n",
    "\n",
    "    mlflow.set_tag(\"developer\", \"jeroen\")\n",
    "    \n",
    "    mlflow.log_param(\"train-data-path\", train_path)\n",
    "    mlflow.log_param(\"val-data-path\", val_path)\n",
    "    \n",
    "    alpha = 0.01\n",
    "\n",
    "    mlflow.log_param(\"alpha\", alpha)\n",
    "    \n",
    "    # Try Lasso model\n",
    "    lr = Lasso(alpha)\n",
    "    lr.fit(X_train, y_train)\n",
    "    \n",
    "    y_pred_val = lr.predict(X_val)\n",
    "    \n",
    "    # Calculate error\n",
    "    mse_train = mean_squared_error(y_train, y_pred_train)\n",
    "    mse_val = mean_squared_error(y_val, y_pred_val)\n",
    "\n",
    "    rmse_val = np.sqrt(mse_val)\n",
    "    print(f\"root_mse_train: {np.sqrt(mse_train)}\")\n",
    "    print(f\"root_mse_val: {rmse_val}\")\n",
    "    \n",
    "    mlflow.log_metric(\"rmse\", rmse_val)"
   ]
  },
  {
   "cell_type": "code",
   "execution_count": 9,
   "id": "0bc2205d-41ef-46bd-bd12-8c95ea57cc15",
   "metadata": {},
   "outputs": [
    {
     "name": "stdout",
     "output_type": "stream",
     "text": [
      "root_mse_train: 5.89884594337706\n",
      "root_mse_val: 7.484704893625263\n"
     ]
    }
   ],
   "source": [
    "# Try Ridge model\n",
    "lr = Ridge()\n",
    "lr.fit(X_train, y_train)\n",
    "\n",
    "y_pred_val = lr.predict(X_val)\n",
    "\n",
    "# Calculate error\n",
    "mse_train = mean_squared_error(y_train, y_pred_train)\n",
    "mse_val = mean_squared_error(y_val, y_pred_val)\n",
    "\n",
    "print(f\"root_mse_train: {np.sqrt(mse_train)}\")\n",
    "print(f\"root_mse_val: {np.sqrt(mse_val)}\")"
   ]
  },
  {
   "cell_type": "code",
   "execution_count": null,
   "id": "68802e3d-75ef-441f-9395-53e15edb5efd",
   "metadata": {},
   "outputs": [],
   "source": []
  },
  {
   "cell_type": "code",
   "execution_count": 10,
   "id": "7a292ddb-fd24-4fc8-8b5a-7a3ee592db75",
   "metadata": {},
   "outputs": [
    {
     "data": {
      "text/plain": [
       "<Compressed Sparse Row sparse matrix of dtype 'float64'\n",
       "\twith 295632 stored elements and shape (73908, 13727)>"
      ]
     },
     "execution_count": 10,
     "metadata": {},
     "output_type": "execute_result"
    }
   ],
   "source": [
    "X_train"
   ]
  },
  {
   "cell_type": "code",
   "execution_count": null,
   "id": "8fc85f0f-874e-4e13-a920-dbc50d2cbb0f",
   "metadata": {},
   "outputs": [],
   "source": []
  },
  {
   "cell_type": "code",
   "execution_count": null,
   "id": "14a07b95-efcc-4e89-9ae4-f6f6eadaacda",
   "metadata": {},
   "outputs": [],
   "source": []
  },
  {
   "cell_type": "code",
   "execution_count": null,
   "id": "f76fadd4-b257-48ca-a762-09d742ed0de4",
   "metadata": {},
   "outputs": [],
   "source": []
  },
  {
   "cell_type": "code",
   "execution_count": 11,
   "id": "5c925b19-125f-47bf-9407-34d03f2db4ff",
   "metadata": {},
   "outputs": [
    {
     "data": {
      "text/plain": [
       "<matplotlib.legend.Legend at 0x7bdbe2037940>"
      ]
     },
     "execution_count": 11,
     "metadata": {},
     "output_type": "execute_result"
    },
    {
     "data": {
      "image/png": "[encoded data removed]",
      "text/plain": [
       "<Figure size 640x480 with 1 Axes>"
      ]
     },
     "metadata": {},
     "output_type": "display_data"
    }
   ],
   "source": [
    "# Visualise the results\n",
    "sns.histplot(y_pred_val, label='prediction', kde=True, alpha=0.5)\n",
    "sns.histplot(y_val, label='actual', kde=True, alpha=0.5)\n",
    "plt.legend()"
   ]
  },
  {
   "cell_type": "code",
   "execution_count": 12,
   "id": "e294c0d9-cb81-495a-b0c3-a7961587e1ee",
   "metadata": {},
   "outputs": [],
   "source": [
    "import xgboost as xgb\n",
    "\n",
    "from hyperopt import fmin, tpe, hp, STATUS_OK, Trials\n",
    "from hyperopt.pyll import scope"
   ]
  },
  {
   "cell_type": "code",
   "execution_count": 13,
   "id": "a6fca88e-ff9c-47f3-b716-458f3d9ef40e",
   "metadata": {},
   "outputs": [],
   "source": [
    "# xgboost requires specific xgb.DMatrix format)\n",
    "train = xgb.DMatrix(X_train, label=y_train)\n",
    "valid = xgb.DMatrix(X_val, label=y_val)"
   ]
  },
  {
   "cell_type": "code",
   "execution_count": 14,
   "id": "0417ac33-43b4-4ce6-b2aa-f590044b0c15",
   "metadata": {},
   "outputs": [],
   "source": [
    "\n",
    "\n",
    "def objective(params):\n",
    "    with mlflow.start_run():\n",
    "        mlflow.set_tag(\"model\", \"xgboost\")\n",
    "        mlflow.log_params(params)\n",
    "        booster = xgb.train(\n",
    "            params=params,\n",
    "            dtrain=train,\n",
    "            num_boost_round=100,\n",
    "            evals=[(valid, 'validation')],\n",
    "            early_stopping_rounds=10\n",
    "        )\n",
    "        y_pred = booster.predict(valid)\n",
    "        rmse = np.sqrt(mean_squared_error(y_val, y_pred))\n",
    "        mlflow.log_metric(\"rmse\", rmse)\n",
    "\n",
    "    return {'loss': rmse, 'status': STATUS_OK}\n",
    "\n"
   ]
  },
  {
   "cell_type": "code",
   "execution_count": null,
   "id": "00634772-c30a-4dbe-961a-966dce5dee28",
   "metadata": {},
   "outputs": [
    {
     "name": "stdout",
     "output_type": "stream",
     "text": [
      "[0]\tvalidation-rmse:10.34597                                                                                                  \n",
      "[1]\tvalidation-rmse:9.03369                                                                                                   \n",
      "[2]\tvalidation-rmse:8.13277                                                                                                   \n",
      "[3]\tvalidation-rmse:7.51943                                                                                                   \n",
      "[4]\tvalidation-rmse:7.11179                                                                                                   \n",
      "[5]\tvalidation-rmse:6.84293                                                                                                   \n",
      "[6]\tvalidation-rmse:6.65969                                                                                                   \n",
      "[7]\tvalidation-rmse:6.53687                                                                                                   \n",
      "[8]\tvalidation-rmse:6.45236                                                                                                   \n",
      "[9]\tvalidation-rmse:6.39306                                                                                                   \n",
      "[10]\tvalidation-rmse:6.35140                                                                                                  \n",
      "[11]\tvalidation-rmse:6.32076                                                                                                  \n",
      "[12]\tvalidation-rmse:6.29804                                                                                                  \n",
      "[13]\tvalidation-rmse:6.27984                                                                                                  \n",
      "[14]\tvalidation-rmse:6.26754                                                                                                  \n",
      "[15]\tvalidation-rmse:6.25646                                                                                                  \n",
      "[16]\tvalidation-rmse:6.24895                                                                                                  \n",
      "[17]\tvalidation-rmse:6.24325                                                                                                  \n",
      "[18]\tvalidation-rmse:6.23694                                                                                                  \n",
      "[19]\tvalidation-rmse:6.23296                                                                                                  \n",
      "[20]\tvalidation-rmse:6.22905                                                                                                  \n",
      "[21]\tvalidation-rmse:6.22728                                                                                                  \n",
      "[22]\tvalidation-rmse:6.22521                                                                                                  \n",
      "[23]\tvalidation-rmse:6.22399                                                                                                  \n",
      "[24]\tvalidation-rmse:6.22263                                                                                                  \n",
      "[25]\tvalidation-rmse:6.22232                                                                                                  \n",
      "[26]\tvalidation-rmse:6.22083                                                                                                  \n",
      "[27]\tvalidation-rmse:6.21952                                                                                                  \n",
      "[28]\tvalidation-rmse:6.21796                                                                                                  \n",
      "[29]\tvalidation-rmse:6.21807                                                                                                  \n",
      "[30]\tvalidation-rmse:6.21708                                                                                                  \n",
      "[31]\tvalidation-rmse:6.21528                                                                                                  \n",
      "[32]\tvalidation-rmse:6.21459                                                                                                  \n",
      "[33]\tvalidation-rmse:6.21399                                                                                                  \n",
      "[34]\tvalidation-rmse:6.21341                                                                                                  \n",
      "[35]\tvalidation-rmse:6.21417                                                                                                  \n",
      "[36]\tvalidation-rmse:6.21432                                                                                                  \n",
      "[37]\tvalidation-rmse:6.21404                                                                                                  \n",
      "[38]\tvalidation-rmse:6.21393                                                                                                  \n",
      "[39]\tvalidation-rmse:6.21366                                                                                                  \n",
      "[40]\tvalidation-rmse:6.21347                                                                                                  \n",
      "[41]\tvalidation-rmse:6.21306                                                                                                  \n",
      "[42]\tvalidation-rmse:6.21288                                                                                                  \n",
      "[43]\tvalidation-rmse:6.21295                                                                                                  \n",
      "[44]\tvalidation-rmse:6.21319                                                                                                  \n",
      "[45]\tvalidation-rmse:6.21287                                                                                                  \n",
      "[46]\tvalidation-rmse:6.21238                                                                                                  \n",
      "[47]\tvalidation-rmse:6.21285                                                                                                  \n",
      "[48]\tvalidation-rmse:6.21293                                                                                                  \n",
      "[49]\tvalidation-rmse:6.21410                                                                                                  \n",
      "[50]\tvalidation-rmse:6.21374                                                                                                  \n",
      "[51]\tvalidation-rmse:6.21441                                                                                                  \n",
      "[52]\tvalidation-rmse:6.21374                                                                                                  \n",
      "[53]\tvalidation-rmse:6.21453                                                                                                  \n",
      "[54]\tvalidation-rmse:6.21480                                                                                                  \n",
      "[55]\tvalidation-rmse:6.21504                                                                                                  \n",
      "[0]\tvalidation-rmse:10.57320                                                                                                  \n",
      "[1]\tvalidation-rmse:9.38995                                                                                                   \n",
      "[2]\tvalidation-rmse:8.54806                                                                                                   \n",
      "[3]\tvalidation-rmse:7.96040                                                                                                   \n",
      "[4]\tvalidation-rmse:7.55523                                                                                                   \n",
      "[5]\tvalidation-rmse:7.27677                                                                                                   \n",
      "[6]\tvalidation-rmse:7.08289                                                                                                   \n",
      "[7]\tvalidation-rmse:6.94668                                                                                                   \n",
      "[8]\tvalidation-rmse:6.85297                                                                                                   \n",
      "[9]\tvalidation-rmse:6.78323                                                                                                   \n",
      "[10]\tvalidation-rmse:6.73130                                                                                                  \n",
      "[11]\tvalidation-rmse:6.68873                                                                                                  \n",
      "[12]\tvalidation-rmse:6.65676                                                                                                  \n",
      "[13]\tvalidation-rmse:6.63401                                                                                                  \n",
      "[14]\tvalidation-rmse:6.61021                                                                                                  \n",
      "[15]\tvalidation-rmse:6.59505                                                                                                  \n",
      "[16]\tvalidation-rmse:6.57901                                                                                                  \n",
      "[17]\tvalidation-rmse:6.56507                                                                                                  \n",
      "[18]\tvalidation-rmse:6.55450                                                                                                  \n",
      "[19]\tvalidation-rmse:6.54395                                                                                                  \n",
      "[20]\tvalidation-rmse:6.53783                                                                                                  \n",
      "[21]\tvalidation-rmse:6.53005                                                                                                  \n",
      "[22]\tvalidation-rmse:6.51930                                                                                                  \n",
      "[23]\tvalidation-rmse:6.51105                                                                                                  \n",
      "[24]\tvalidation-rmse:6.50705                                                                                                  \n",
      "[25]\tvalidation-rmse:6.49600                                                                                                  \n",
      "[26]\tvalidation-rmse:6.49314                                                                                                  \n",
      "[27]\tvalidation-rmse:6.48858                                                                                                  \n",
      "[28]\tvalidation-rmse:6.48007                                                                                                  \n",
      "[29]\tvalidation-rmse:6.47417                                                                                                  \n",
      "[30]\tvalidation-rmse:6.46565                                                                                                  \n",
      "[31]\tvalidation-rmse:6.46213                                                                                                  \n",
      "[32]\tvalidation-rmse:6.45898                                                                                                  \n",
      "[33]\tvalidation-rmse:6.45552                                                                                                  \n",
      "[34]\tvalidation-rmse:6.45297                                                                                                  \n",
      "[35]\tvalidation-rmse:6.44907                                                                                                  \n",
      "[36]\tvalidation-rmse:6.44591                                                                                                  \n",
      "[37]\tvalidation-rmse:6.44249                                                                                                  \n",
      "[38]\tvalidation-rmse:6.43918                                                                                                  \n",
      "[39]\tvalidation-rmse:6.43757                                                                                                  \n",
      "[40]\tvalidation-rmse:6.43632                                                                                                  \n",
      "[41]\tvalidation-rmse:6.43424                                                                                                  \n",
      "[42]\tvalidation-rmse:6.43013                                                                                                  \n",
      "[43]\tvalidation-rmse:6.42534                                                                                                  \n",
      "[44]\tvalidation-rmse:6.42321                                                                                                  \n",
      "[45]\tvalidation-rmse:6.41699                                                                                                  \n",
      "[46]\tvalidation-rmse:6.41464                                                                                                  \n",
      "[47]\tvalidation-rmse:6.41101                                                                                                  \n",
      "[48]\tvalidation-rmse:6.40965                                                                                                  \n",
      "[49]\tvalidation-rmse:6.40420                                                                                                  \n",
      "[50]\tvalidation-rmse:6.39954                                                                                                  \n",
      "[51]\tvalidation-rmse:6.39702                                                                                                  \n",
      "[52]\tvalidation-rmse:6.39183                                                                                                  \n",
      "[53]\tvalidation-rmse:6.38858                                                                                                  \n",
      "[54]\tvalidation-rmse:6.38743                                                                                                  \n",
      "[55]\tvalidation-rmse:6.38624                                                                                                  \n",
      "[56]\tvalidation-rmse:6.38121                                                                                                  \n",
      "[57]\tvalidation-rmse:6.37911                                                                                                  \n",
      "[58]\tvalidation-rmse:6.37809                                                                                                  \n",
      "[59]\tvalidation-rmse:6.37527                                                                                                  \n",
      "[60]\tvalidation-rmse:6.37388                                                                                                  \n",
      "[61]\tvalidation-rmse:6.37243                                                                                                  \n",
      "[62]\tvalidation-rmse:6.37035                                                                                                  \n",
      "[63]\tvalidation-rmse:6.36804                                                                                                  \n",
      "[64]\tvalidation-rmse:6.36695                                                                                                  \n",
      "[65]\tvalidation-rmse:6.36591                                                                                                  \n",
      "[66]\tvalidation-rmse:6.36418                                                                                                  \n",
      "[67]\tvalidation-rmse:6.36261                                                                                                  \n",
      "[68]\tvalidation-rmse:6.36145                                                                                                  \n",
      "[69]\tvalidation-rmse:6.35874                                                                                                  \n",
      "[70]\tvalidation-rmse:6.35788                                                                                                  \n",
      "[71]\tvalidation-rmse:6.35741                                                                                                  \n",
      "[72]\tvalidation-rmse:6.35357                                                                                                  \n",
      "[73]\tvalidation-rmse:6.35276                                                                                                  \n",
      "[74]\tvalidation-rmse:6.35167                                                                                                  \n",
      "[75]\tvalidation-rmse:6.35045                                                                                                  \n",
      "[76]\tvalidation-rmse:6.34897                                                                                                  \n",
      "[77]\tvalidation-rmse:6.34867                                                                                                  \n",
      "[78]\tvalidation-rmse:6.34595                                                                                                  \n",
      "[79]\tvalidation-rmse:6.34378                                                                                                  \n",
      "[80]\tvalidation-rmse:6.34323                                                                                                  \n",
      "[81]\tvalidation-rmse:6.33924                                                                                                  \n",
      "[82]\tvalidation-rmse:6.33903                                                                                                  \n",
      "[83]\tvalidation-rmse:6.33836                                                                                                  \n",
      "[84]\tvalidation-rmse:6.33665                                                                                                  \n",
      "[85]\tvalidation-rmse:6.33596                                                                                                  \n",
      "[86]\tvalidation-rmse:6.33364                                                                                                  \n",
      "[87]\tvalidation-rmse:6.33179                                                                                                  \n",
      "[88]\tvalidation-rmse:6.33081                                                                                                  \n",
      "[89]\tvalidation-rmse:6.32842                                                                                                  \n",
      "[90]\tvalidation-rmse:6.32692                                                                                                  \n",
      "[91]\tvalidation-rmse:6.32643                                                                                                  \n",
      "[92]\tvalidation-rmse:6.32623                                                                                                  \n",
      "[93]\tvalidation-rmse:6.32489                                                                                                  \n",
      "[94]\tvalidation-rmse:6.32375                                                                                                  \n",
      "[95]\tvalidation-rmse:6.32076                                                                                                  \n",
      "[96]\tvalidation-rmse:6.32028                                                                                                  \n",
      "[97]\tvalidation-rmse:6.31977                                                                                                  \n",
      "[98]\tvalidation-rmse:6.31886                                                                                                  \n",
      "[99]\tvalidation-rmse:6.31788                                                                                                  \n",
      "  4%|██▎                                                      | 2/50 [01:00<21:18, 26.64s/trial, best loss: 6.216018084829118]"
     ]
    }
   ],
   "source": [
    "\n",
    "\n",
    "search_space = {\n",
    "    'max_depth': scope.int(hp.quniform('max_depth', 4, 100, 1)), # hp.quniform samples from the defined range (4, 100)\n",
    "    'learning_rate': hp.loguniform('learning_rate', -3, 0), # Loguniform takes the exponent of the interval: interval is exp(-3), exp(0) [0.05, 1]\n",
    "    'reg_alpha': hp.loguniform('reg_alpha', -5, -1),\n",
    "    'reg_lambda': hp.loguniform('reg_lambda', -6, -1),\n",
    "    'min_child_weight': hp.loguniform('min_child_weight', -1, 3),\n",
    "    'objective': 'reg:squarederror',\n",
    "    'seed': 42\n",
    "}\n",
    "\n",
    "best_result = fmin(\n",
    "    fn=objective,\n",
    "    space=search_space,\n",
    "    algo=tpe.suggest,\n",
    "    max_evals=50,\n",
    "    trials=Trials()\n",
    ")\n"
   ]
  },
  {
   "cell_type": "code",
   "execution_count": null,
   "id": "54f3646a-8b8b-49ee-82f5-ea32ea8f8f75",
   "metadata": {},
   "outputs": [],
   "source": []
  }
 ],
 "metadata": {
  "kernelspec": {
   "display_name": "Python 3 (ipykernel)",
   "language": "python",
   "name": "python3"
  },
  "language_info": {
   "codemirror_mode": {
    "name": "ipython",
    "version": 3
   },
   "file_extension": ".py",
   "mimetype": "text/x-python",
   "name": "python",
   "nbconvert_exporter": "python",
   "pygments_lexer": "ipython3",
   "version": "3.10.16"
  }
 },
 "nbformat": 4,
 "nbformat_minor": 5
}
